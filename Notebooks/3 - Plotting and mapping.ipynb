{
 "metadata": {
  "language_info": {
   "codemirror_mode": {
    "name": "ipython",
    "version": 3
   },
   "file_extension": ".py",
   "mimetype": "text/x-python",
   "name": "python",
   "nbconvert_exporter": "python",
   "pygments_lexer": "ipython3",
   "version": "3.8.5-final"
  },
  "orig_nbformat": 2,
  "kernelspec": {
   "name": "python3",
   "display_name": "Python 3"
  }
 },
 "nbformat": 4,
 "nbformat_minor": 2,
 "cells": [
  {
   "source": [
    "# Set-up\n",
    "In this notebook I've provided the primary code I used to plot, build wordclouds, etc."
   ],
   "cell_type": "markdown",
   "metadata": {}
  },
  {
   "source": [
    "# Imports"
   ],
   "cell_type": "markdown",
   "metadata": {}
  },
  {
   "cell_type": "code",
   "execution_count": null,
   "metadata": {},
   "outputs": [],
   "source": [
    "import pandas as pd\n",
    "import numpy as np\n",
    "import pickle\n",
    "import time\n",
    "import matplotlib.pyplot as plt\n",
    "import plotly.graph_objects as go\n",
    "from urllib.request import urlopen\n",
    "import json\n",
    "from tqdm import tqdm\n",
    "from wordcloud import WordCloud\n",
    "from collections import defaultdict"
   ]
  },
  {
   "source": [
    "# Unpickling"
   ],
   "cell_type": "markdown",
   "metadata": {}
  },
  {
   "cell_type": "code",
   "execution_count": null,
   "metadata": {},
   "outputs": [],
   "source": [
    "with open(\"alaska_hotels_df.pickle\", \"rb\") as to_read:\n",
    "    main_df = pickle.load(to_read)"
   ]
  },
  {
   "source": [
    "# Plotting a population density map"
   ],
   "cell_type": "markdown",
   "metadata": {}
  },
  {
   "cell_type": "code",
   "execution_count": null,
   "metadata": {},
   "outputs": [],
   "source": [
    "with urlopen('https://raw.githubusercontent.com/plotly/datasets/master/geojson-counties-fips.json') as response:\n",
    "    counties = json.load(response)\n",
    "df = pd.read_csv(\"https://raw.githubusercontent.com/plotly/datasets/master/fips-unemp-16.csv\",\n",
    "                   dtype={\"fips\": str})"
   ]
  },
  {
   "cell_type": "code",
   "execution_count": null,
   "metadata": {},
   "outputs": [],
   "source": [
    "population_density = [0, 1, 175, 0, 2, 0, 0, 14, 1, 12, 4, 3, 2, 0, 4, 0, 0, 0, 1, 3, 2, 0, 0, 0, 1, 0, 0]\n",
    "fips_dict = {\"fips\": [\"02013\", \"02016\", \"02020\", \"02050\", \"02060\", \"02068\", \"02070\", \"02090\", \"02100\", \"02110\", \"02122\", \"02130\", \"02150\", \"02164\", \"02170\", \"02180\", \"02185\", \"02188\", \"02201\", \"02220\", \"02232\", \"02240\", \"02261\", \"02270\", \"02280\", \"02282\", \"02290\"], \"names\": [\"Aleutians East\", \"Aleutians West\", \"Anchorage\", \"Bethel\", \"Bristol Bay\", \"Denali\", \"Dillingham\", \"Fairbanks North Star\", \"Haines\", \"Juneau\", \"Kenai Peninsula\", \"Ketchikan Gateway\", \"Kodiak Island\", \"Lake and Peninsula\", \"Matanuska-Susitna\", \"Nome\", \"North Slope\", \"Northwest Arctic\", \"Prince of Wales-Outer Ketchikan\", \"Sitka\", \"Skagway-Hoonah-Angoon\", \"Southeast Fairbanks\", \"Valdez-Cordova\", \"Wade Hampton\", \"Wrangell-Petersburg\", \"Yakutat\", \"Yukon-Koyukuk\"], \"Population density\": population_density}\n",
    "fips_df = pd.DataFrame(fips_dict)"
   ]
  },
  {
   "cell_type": "code",
   "execution_count": null,
   "metadata": {},
   "outputs": [],
   "source": [
    "fig = go.Figure(go.Choroplethmapbox(geojson=counties, locations=fips_df[\"fips\"], z=fips_df[\"Population density\"],\n",
    "                                    colorscale=\"Tealgrn\", zmin=0, zmax=30,\n",
    "                                    marker_opacity=1, marker_line_width=1))\n",
    "fig.update_layout(mapbox_style=\"carto-darkmatter\",\n",
    "                  mapbox_zoom=3.5, mapbox_center = {\"lat\": 62.1198, \"lon\": -155.4393})\n",
    "fig.update_layout(autosize=False, width=1400, height=900, margin={\"r\":5,\"t\":0,\"l\":1,\"b\":0})\n",
    "fig.show();"
   ]
  },
  {
   "source": [
    "# Plotting themed wordclouds for adjectives in each season\n",
    "I did this for each of the four seasons"
   ],
   "cell_type": "markdown",
   "metadata": {}
  },
  {
   "cell_type": "code",
   "execution_count": null,
   "metadata": {},
   "outputs": [],
   "source": [
    "vader_score_dict = get_seasonal_wordcloud(main_df, \"Spring\", column=\"Review adjs\", pos_color='#4DFA39', neg_color='#6397FC', def_color='#BEFFFF')"
   ]
  }
 ]
}